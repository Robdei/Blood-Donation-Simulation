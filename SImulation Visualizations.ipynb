{
 "cells": [
  {
   "cell_type": "code",
   "execution_count": 41,
   "metadata": {},
   "outputs": [],
   "source": [
    "import pandas as pd\n",
    "import matplotlib.pyplot as plt\n",
    "import statsmodels.formula.api as smf\n",
    "import numpy as np"
   ]
  },
  {
   "cell_type": "code",
   "execution_count": 10,
   "metadata": {},
   "outputs": [],
   "source": [
    "#Import Model results\n",
    "Results = pd.read_excel('Results Final.xlsx')"
   ]
  },
  {
   "cell_type": "code",
   "execution_count": 11,
   "metadata": {},
   "outputs": [
    {
     "data": {
      "text/html": [
       "<div>\n",
       "<style scoped>\n",
       "    .dataframe tbody tr th:only-of-type {\n",
       "        vertical-align: middle;\n",
       "    }\n",
       "\n",
       "    .dataframe tbody tr th {\n",
       "        vertical-align: top;\n",
       "    }\n",
       "\n",
       "    .dataframe thead th {\n",
       "        text-align: right;\n",
       "    }\n",
       "</style>\n",
       "<table border=\"1\" class=\"dataframe\">\n",
       "  <thead>\n",
       "    <tr style=\"text-align: right;\">\n",
       "      <th></th>\n",
       "      <th>Name</th>\n",
       "      <th>MSM Included</th>\n",
       "      <th>MSM Proportion</th>\n",
       "      <th>MSM</th>\n",
       "      <th>Platelets/Person</th>\n",
       "      <th>Plasma/Person</th>\n",
       "      <th>HIV Donations Detected</th>\n",
       "      <th>HIV Donations Undetected</th>\n",
       "      <th>Number of Infections from Transfusions</th>\n",
       "      <th>False Positives</th>\n",
       "      <th>Total RBC</th>\n",
       "      <th>Total Platelets</th>\n",
       "      <th>Eligibility</th>\n",
       "      <th>Unnamed: 13</th>\n",
       "      <th>TotRBC/100000</th>\n",
       "      <th>TotPlat/100000</th>\n",
       "      <th>(HIV Transmissions)/100000</th>\n",
       "    </tr>\n",
       "  </thead>\n",
       "  <tbody>\n",
       "    <tr>\n",
       "      <th>0</th>\n",
       "      <td>7368601</td>\n",
       "      <td>0</td>\n",
       "      <td>0.031815</td>\n",
       "      <td>6363</td>\n",
       "      <td>2</td>\n",
       "      <td>1</td>\n",
       "      <td>7</td>\n",
       "      <td>2</td>\n",
       "      <td>4</td>\n",
       "      <td>19</td>\n",
       "      <td>11115</td>\n",
       "      <td>2942.4</td>\n",
       "      <td>0.38</td>\n",
       "      <td>NaN</td>\n",
       "      <td>5557.5</td>\n",
       "      <td>1471.2</td>\n",
       "      <td>2.0</td>\n",
       "    </tr>\n",
       "    <tr>\n",
       "      <th>1</th>\n",
       "      <td>7316865</td>\n",
       "      <td>0</td>\n",
       "      <td>0.027415</td>\n",
       "      <td>5483</td>\n",
       "      <td>2</td>\n",
       "      <td>4</td>\n",
       "      <td>9</td>\n",
       "      <td>1</td>\n",
       "      <td>3</td>\n",
       "      <td>15</td>\n",
       "      <td>11192</td>\n",
       "      <td>2892.4</td>\n",
       "      <td>0.38</td>\n",
       "      <td>NaN</td>\n",
       "      <td>5596.0</td>\n",
       "      <td>1446.2</td>\n",
       "      <td>1.5</td>\n",
       "    </tr>\n",
       "    <tr>\n",
       "      <th>2</th>\n",
       "      <td>1884559</td>\n",
       "      <td>0</td>\n",
       "      <td>0.008335</td>\n",
       "      <td>1667</td>\n",
       "      <td>1</td>\n",
       "      <td>4</td>\n",
       "      <td>2</td>\n",
       "      <td>1</td>\n",
       "      <td>2</td>\n",
       "      <td>1</td>\n",
       "      <td>2856</td>\n",
       "      <td>735.4</td>\n",
       "      <td>0.38</td>\n",
       "      <td>NaN</td>\n",
       "      <td>1428.0</td>\n",
       "      <td>367.7</td>\n",
       "      <td>1.0</td>\n",
       "    </tr>\n",
       "    <tr>\n",
       "      <th>3</th>\n",
       "      <td>3647578</td>\n",
       "      <td>0</td>\n",
       "      <td>0.028575</td>\n",
       "      <td>5715</td>\n",
       "      <td>2</td>\n",
       "      <td>2</td>\n",
       "      <td>5</td>\n",
       "      <td>1</td>\n",
       "      <td>2</td>\n",
       "      <td>21</td>\n",
       "      <td>11128</td>\n",
       "      <td>2934.4</td>\n",
       "      <td>0.38</td>\n",
       "      <td>NaN</td>\n",
       "      <td>5564.0</td>\n",
       "      <td>1467.2</td>\n",
       "      <td>1.0</td>\n",
       "    </tr>\n",
       "    <tr>\n",
       "      <th>4</th>\n",
       "      <td>4255039</td>\n",
       "      <td>0</td>\n",
       "      <td>0.023375</td>\n",
       "      <td>4675</td>\n",
       "      <td>4</td>\n",
       "      <td>2</td>\n",
       "      <td>7</td>\n",
       "      <td>1</td>\n",
       "      <td>2</td>\n",
       "      <td>20</td>\n",
       "      <td>11256</td>\n",
       "      <td>2924.6</td>\n",
       "      <td>0.38</td>\n",
       "      <td>NaN</td>\n",
       "      <td>5628.0</td>\n",
       "      <td>1462.3</td>\n",
       "      <td>1.0</td>\n",
       "    </tr>\n",
       "  </tbody>\n",
       "</table>\n",
       "</div>"
      ],
      "text/plain": [
       "      Name  MSM Included  MSM Proportion   MSM  Platelets/Person  \\\n",
       "0  7368601             0        0.031815  6363                 2   \n",
       "1  7316865             0        0.027415  5483                 2   \n",
       "2  1884559             0        0.008335  1667                 1   \n",
       "3  3647578             0        0.028575  5715                 2   \n",
       "4  4255039             0        0.023375  4675                 4   \n",
       "\n",
       "   Plasma/Person  HIV Donations Detected  HIV Donations Undetected  \\\n",
       "0              1                       7                         2   \n",
       "1              4                       9                         1   \n",
       "2              4                       2                         1   \n",
       "3              2                       5                         1   \n",
       "4              2                       7                         1   \n",
       "\n",
       "   Number of Infections from Transfusions  False Positives  Total RBC  \\\n",
       "0                                       4               19      11115   \n",
       "1                                       3               15      11192   \n",
       "2                                       2                1       2856   \n",
       "3                                       2               21      11128   \n",
       "4                                       2               20      11256   \n",
       "\n",
       "   Total Platelets  Eligibility  Unnamed: 13  TotRBC/100000  TotPlat/100000  \\\n",
       "0           2942.4         0.38          NaN         5557.5          1471.2   \n",
       "1           2892.4         0.38          NaN         5596.0          1446.2   \n",
       "2            735.4         0.38          NaN         1428.0           367.7   \n",
       "3           2934.4         0.38          NaN         5564.0          1467.2   \n",
       "4           2924.6         0.38          NaN         5628.0          1462.3   \n",
       "\n",
       "   (HIV Transmissions)/100000  \n",
       "0                         2.0  \n",
       "1                         1.5  \n",
       "2                         1.0  \n",
       "3                         1.0  \n",
       "4                         1.0  "
      ]
     },
     "execution_count": 11,
     "metadata": {},
     "output_type": "execute_result"
    }
   ],
   "source": [
    "Results.head()"
   ]
  },
  {
   "cell_type": "code",
   "execution_count": 37,
   "metadata": {},
   "outputs": [
    {
     "data": {
      "text/plain": [
       "([<matplotlib.axis.XTick at 0x1436a789988>,\n",
       "  <matplotlib.axis.XTick at 0x1436a789048>],\n",
       " <a list of 2 Text xticklabel objects>)"
      ]
     },
     "execution_count": 37,
     "metadata": {},
     "output_type": "execute_result"
    },
    {
     "data": {
      "image/png": "[encoded data removed]",
      "text/plain": [
       "<Figure size 1008x576 with 1 Axes>"
      ]
     },
     "metadata": {
      "needs_background": "light"
     },
     "output_type": "display_data"
    }
   ],
   "source": [
    "# plot the number of hive infections via transfusions \n",
    "# in each simulation vs whether gay men are excluded from donation or not\n",
    "\n",
    "X = Results['MSM Included']+.01*np.random.randn(len(Results))\n",
    "y = Results['Number of Infections from Transfusions']+.05*np.random.randn(len(Results))\n",
    "\n",
    "fig = plt.figure(figsize=(14,8))\n",
    "plt.scatter(X,y,alpha=.25)\n",
    "plt.ylabel('Number of HIV infections from transfusions')\n",
    "plt.xlabel('Are MSM allowed to donate?')\n",
    "plt.title('Number of HIV Infections from a Blood Transfusion by Simulation Type')\n",
    "plt.xticks([0,1], ('MSM Excluded','MSM Allowed'))"
   ]
  },
  {
   "cell_type": "code",
   "execution_count": 48,
   "metadata": {},
   "outputs": [
    {
     "name": "stdout",
     "output_type": "stream",
     "text": [
      "                            OLS Regression Results                            \n",
      "==============================================================================\n",
      "Dep. Variable:          Transmissions   R-squared:                       0.008\n",
      "Model:                            OLS   Adj. R-squared:                  0.007\n",
      "Method:                 Least Squares   F-statistic:                     11.88\n",
      "Date:                Sun, 26 Jan 2020   Prob (F-statistic):           0.000579\n",
      "Time:                        21:42:17   Log-Likelihood:                 783.77\n",
      "No. Observations:                2103   AIC:                            -1564.\n",
      "Df Residuals:                    2101   BIC:                            -1552.\n",
      "Df Model:                           1                                         \n",
      "Covariance Type:                  HC3                                         \n",
      "==============================================================================\n",
      "                 coef    std err          z      P>|z|      [0.025      0.975]\n",
      "------------------------------------------------------------------------------\n",
      "Intercept      0.0171      0.003      4.991      0.000       0.010       0.024\n",
      "Included       0.0317      0.009      3.447      0.001       0.014       0.050\n",
      "==============================================================================\n",
      "Omnibus:                     2720.994   Durbin-Watson:                   0.151\n",
      "Prob(Omnibus):                  0.000   Jarque-Bera (JB):           354105.255\n",
      "Skew:                           7.219   Prob(JB):                         0.00\n",
      "Kurtosis:                      64.909   Cond. No.                         2.41\n",
      "==============================================================================\n",
      "\n",
      "Warnings:\n",
      "[1] Standard Errors are heteroscedasticity robust (HC3)\n"
     ]
    }
   ],
   "source": [
    "# OLS with Heteroskedastic robust standard errors\n",
    "Transmissions=np.array(Results['(HIV Transmissions)/100000'])\n",
    "Included=np.array(Results['MSM Included'])\n",
    "\n",
    "#Heteroskedastic Standard Errors\n",
    "reg = smf.ols('Transmissions ~ 1 + Included',data=Results).fit(cov_type='HC3')\n",
    "print(reg.summary())"
   ]
  },
  {
   "cell_type": "markdown",
   "metadata": {},
   "source": [
    "## The dummy variable designating exclusion of gay men increases the number of transmission by a small amount. That increase is negligible compared to the baseline HIV transmission rate"
   ]
  },
  {
   "cell_type": "code",
   "execution_count": null,
   "metadata": {},
   "outputs": [],
   "source": []
  }
 ],
 "metadata": {
  "kernelspec": {
   "display_name": "Python 3",
   "language": "python",
   "name": "python3"
  },
  "language_info": {
   "codemirror_mode": {
    "name": "ipython",
    "version": 3
   },
   "file_extension": ".py",
   "mimetype": "text/x-python",
   "name": "python",
   "nbconvert_exporter": "python",
   "pygments_lexer": "ipython3",
   "version": "3.7.5"
  }
 },
 "nbformat": 4,
 "nbformat_minor": 2
}
